{
 "cells": [
  {
   "cell_type": "markdown",
   "id": "3ff88bcb",
   "metadata": {},
   "source": [
    "# LAB | Central Limit Theorem and Normality Tests\n"
   ]
  },
  {
   "cell_type": "code",
   "execution_count": 1,
   "id": "3374eb53",
   "metadata": {},
   "outputs": [],
   "source": [
    "import numpy as np\n",
    "import pandas as pd\n",
    "import matplotlib.pyplot as plt\n",
    "import seaborn as sns\n",
    "import scipy.stats as stats\n",
    "from statsmodels.graphics.gofplots import qqplot\n",
    "\n",
    "# Set random seed for reproducibility\n",
    "np.random.seed(42)\n",
    "\n",
    "# Setting plot style\n",
    "plt.style.use('seaborn-v0_8')"
   ]
  },
  {
   "cell_type": "markdown",
   "id": "40443e3c",
   "metadata": {},
   "source": [
    "## Challenge 1: Basic Central Limit Theorem Demonstration"
   ]
  },
  {
   "cell_type": "markdown",
   "id": "2ab3540f",
   "metadata": {},
   "source": [
    "In this challenge, you'll explore the fundamental concept of the Central Limit Theorem\n",
    "by generating samples from different distributions and observing how their sample means\n",
    "approach a normal distribution as sample size increases.\n",
    "\n",
    "# Instructions\n",
    "Instructions:\n",
    "1. We'll create a non-normal distribution (exponential distribution)\n",
    "2. Draw samples of different sizes and calculate their means\n",
    "3. Observe how the distribution of sample means approaches normal distribution\n",
    "4. Complete the code below to create histograms for sample means\n"
   ]
  },
  {
   "cell_type": "code",
   "execution_count": 7,
   "id": "ee78915f",
   "metadata": {},
   "outputs": [],
   "source": [
    "# Set parameters\n",
    "population_size = 10000\n",
    "sample_sizes = [1, 5, 30, 100]  # Increasing sample sizes\n",
    "n_samples = 1000  # Number of samples to draw for each sample size\n",
    "\n",
    "# Create a non-normal population (exponential distribution with lambda=0.5)\n",
    "population = np.random.exponential(scale=2, size=population_size)"
   ]
  },
  {
   "cell_type": "code",
   "execution_count": null,
   "id": "b78f1309",
   "metadata": {},
   "outputs": [],
   "source": [
    "# Plot the original population distribution\n",
    "plt.figure(figsize=(10, 6))\n",
    "plt.hist(population, bins=30, alpha=0.7, color='skyblue', density=True)\n",
    "plt.title('Original Population Distribution (Exponential)')\n",
    "plt.axvline(np.mean(population), color='red', linestyle='dashed', linewidth=1, label=f'Mean: {np.mean(population):.2f}')\n",
    "plt.axvline(np.median(population), color='green', linestyle='dashed', linewidth=1, label=f'Median: {np.median(population):.2f}')\n",
    "plt.legend()\n",
    "plt.show()\n",
    "\n",
    "print(f\"Population statistics:\")\n",
    "print(f\"Mean: {np.mean(population):.4f}\")\n",
    "print(f\"Median: {np.median(population):.4f}\")\n",
    "print(f\"Variance: {np.var(population):.4f}\")\n",
    "print(f\"Skewness: {stats.skew(population):.4f}\")\n",
    "print(f\"Kurtosis: {stats.kurtosis(population):.4f}\\n\")"
   ]
  },
  {
   "cell_type": "code",
   "execution_count": null,
   "id": "cccbb2a3",
   "metadata": {},
   "outputs": [],
   "source": [
    "# Show how sample means approach normal distribution\n",
    "fig, axes = plt.subplots(2, 2, figsize=(15, 10))\n",
    "axes = axes.flatten()\n",
    "\n",
    "for i, sample_size in enumerate(sample_sizes):\n",
    "    # Draw many samples of the given size and calculate their means\n",
    "    sample_means = np.array([np.mean(np.random.choice(population, size=sample_size)) for _ in range(n_samples)])\n",
    "    \n",
    "    # Plot the histogram of sample means\n",
    "    sns.histplot(sample_means, kde=True, ax=axes[i])\n",
    "    \n",
    "    # Calculate statistics for the sample means\n",
    "    mean_of_means = np.mean(sample_means)\n",
    "    std_of_means = np.std(sample_means)\n",
    "    \n",
    "    # According to CLT, the standard deviation of sample means should be population_std / sqrt(sample_size)\n",
    "    theoretical_std = np.std(population) / np.sqrt(sample_size)\n",
    "    \n",
    "    # Display the statistics\n",
    "    axes[i].set_title(f'Distribution of Sample Means (n={sample_size})')\n",
    "    axes[i].axvline(mean_of_means, color='red', linestyle='dashed', linewidth=1, \n",
    "                    label=f'Mean: {mean_of_means:.4f}')\n",
    "    axes[i].axvline(mean_of_means + std_of_means, color='green', linestyle='dashed', linewidth=1,\n",
    "                   label=f'SD: {std_of_means:.4f}\\nTheoretical SD: {theoretical_std:.4f}')\n",
    "    axes[i].axvline(mean_of_means - std_of_means, color='green', linestyle='dashed', linewidth=1)\n",
    "    axes[i].legend()\n",
    "\n",
    "plt.tight_layout()\n",
    "plt.show()"
   ]
  },
  {
   "cell_type": "markdown",
   "id": "a4bcfaa4",
   "metadata": {},
   "source": [
    "Your Tasks:\n",
    "1. Explain what happens to the distribution of sample means as sample size increases\n",
    "2. Compare the observed standard deviation of sample means with the theoretical value\n",
    "3. What is the theoretical SD formula according to the CLT?\n",
    "4. How does the skewness of the distribution of sample means change with sample size?"
   ]
  },
  {
   "cell_type": "code",
   "execution_count": null,
   "id": "e77e180f",
   "metadata": {},
   "outputs": [],
   "source": [
    "# TODO\n",
    "# Your code here "
   ]
  },
  {
   "cell_type": "markdown",
   "id": "1eff8231",
   "metadata": {},
   "source": [
    "## Challenge 2: CLT with Real-World Data\n"
   ]
  },
  {
   "cell_type": "markdown",
   "id": "4b6666a9",
   "metadata": {},
   "source": [
    "Now let's apply the Central Limit Theorem to a real-world dataset.\n",
    "We'll use the famous Iris dataset.\n"
   ]
  },
  {
   "cell_type": "code",
   "execution_count": null,
   "id": "a23ee0a6",
   "metadata": {},
   "outputs": [],
   "source": [
    "# Load iris dataset\n",
    "from sklearn.datasets import load_iris\n",
    "iris = load_iris()\n",
    "iris_df = pd.DataFrame(data=iris.data, columns=iris.feature_names)\n",
    "iris_df['species'] = pd.Categorical.from_codes(iris.target, iris.target_names)"
   ]
  },
  {
   "cell_type": "code",
   "execution_count": null,
   "id": "286d5bfd",
   "metadata": {},
   "outputs": [],
   "source": [
    "# Preview of the Iris dataset:\n",
    "display(iris_df.head())\n",
    "# Summary statistics:\n",
    "print(iris_df.describe())"
   ]
  },
  {
   "cell_type": "code",
   "execution_count": null,
   "id": "b22d50af",
   "metadata": {},
   "outputs": [],
   "source": [
    "# Let's focus on sepal length for this exercise\n",
    "sepal_length = iris_df['sepal length (cm)'].values\n",
    "\n",
    "# Plot the original distribution\n",
    "plt.figure(figsize=(10, 6))\n",
    "plt.hist(sepal_length, bins=15, alpha=0.7, color='skyblue', density=True)\n",
    "plt.title('Distribution of Sepal Length in Iris Dataset')\n",
    "plt.axvline(np.mean(sepal_length), color='red', linestyle='dashed', linewidth=1, label=f'Mean: {np.mean(sepal_length):.2f}')\n",
    "plt.axvline(np.median(sepal_length), color='green', linestyle='dashed', linewidth=1, label=f'Median: {np.median(sepal_length):.2f}')\n",
    "plt.legend()\n",
    "plt.show()"
   ]
  },
  {
   "cell_type": "markdown",
   "id": "fef5896b",
   "metadata": {},
   "source": [
    "Your Tasks:\n",
    "1. Complete the following code to draw samples of sepal length and compute their means\n",
    "2. Create histograms for the distribution of sample means with sample sizes of 5, 15, and 30\n",
    "3. Calculate and compare the standard deviation of the original data vs. the standard deviation of sample means\n",
    "4. Test if the original data is normally distributed (using a method of your choice)"
   ]
  },
  {
   "cell_type": "code",
   "execution_count": null,
   "id": "8d205e03",
   "metadata": {},
   "outputs": [],
   "source": [
    "# TODO\n",
    "# Your code here - draw samples and create histograms"
   ]
  },
  {
   "cell_type": "markdown",
   "id": "248ce790",
   "metadata": {},
   "source": [
    "## Challenge 3: CLT with Different Sample Statistics\n"
   ]
  },
  {
   "cell_type": "markdown",
   "id": "277cf217",
   "metadata": {},
   "source": [
    "The Central Limit Theorem applies not only to sample means but also to other\n",
    "statistics like medians, variances, and proportions. Let's explore this concept.\n"
   ]
  },
  {
   "cell_type": "code",
   "execution_count": null,
   "id": "e5734c6c",
   "metadata": {},
   "outputs": [],
   "source": [
    "# Load Boston Housing dataset\n",
    "from sklearn.datasets import load_boston\n",
    "boston = load_boston()\n",
    "boston_df = pd.DataFrame(data=boston.data, columns=boston.feature_names)\n",
    "boston_df['MEDV'] = boston.target\n",
    "\n",
    "# Display of the Boston Housing dataset:\n",
    "boston_df.head()\n"
   ]
  },
  {
   "cell_type": "code",
   "execution_count": null,
   "id": "25ff1f3e",
   "metadata": {},
   "outputs": [],
   "source": [
    "#Summary statistics for housing prices (MEDV):\n",
    "boston_df['MEDV'].describe()"
   ]
  },
  {
   "cell_type": "code",
   "execution_count": null,
   "id": "21a38531",
   "metadata": {},
   "outputs": [],
   "source": [
    "# Let's focus on housing prices (MEDV)\n",
    "housing_prices = boston_df['MEDV'].values\n",
    "\n",
    "# Create a binary variable: 1 if price > median, 0 otherwise\n",
    "median_price = np.median(housing_prices)\n",
    "housing_binary = (housing_prices > median_price).astype(int)"
   ]
  },
  {
   "cell_type": "code",
   "execution_count": null,
   "id": "e6567a60",
   "metadata": {},
   "outputs": [],
   "source": [
    "# Plot the original distribution\n",
    "plt.figure(figsize=(12, 6))\n",
    "plt.subplot(1, 2, 1)\n",
    "plt.hist(housing_prices, bins=20, alpha=0.7, color='skyblue')\n",
    "plt.title('Distribution of Housing Prices')\n",
    "plt.axvline(np.mean(housing_prices), color='red', linestyle='dashed', linewidth=1, label=f'Mean: {np.mean(housing_prices):.2f}')\n",
    "plt.axvline(np.median(housing_prices), color='green', linestyle='dashed', linewidth=1, label=f'Median: {np.median(housing_prices):.2f}')\n",
    "plt.legend()\n",
    "\n",
    "plt.subplot(1, 2, 2)\n",
    "plt.hist(housing_binary, bins=2, alpha=0.7, color='salmon')\n",
    "plt.title('Binary Housing Prices (Above/Below Median)')\n",
    "plt.xticks([0, 1], ['Below Median', 'Above Median'])\n",
    "plt.ylabel('Frequency')\n",
    "plt.show()"
   ]
  },
  {
   "cell_type": "markdown",
   "id": "e247411a",
   "metadata": {},
   "source": [
    "Your Tasks:\n",
    "1. Implement sampling to examine the CLT's application to three different statistics:\n",
    "   a) Sample means\n",
    "   b) Sample medians\n",
    "   c) Sample proportions (of houses above median price)\n",
    "2. For each statistic, draw 1000 samples of size 30 and plot the distribution of the sample statistics\n",
    "3. Compare the shapes of these three distributions\n",
    "4. Discuss whether the CLT applies equally well to all three statistics.\n"
   ]
  },
  {
   "cell_type": "code",
   "execution_count": null,
   "id": "86a22c55",
   "metadata": {},
   "outputs": [],
   "source": [
    "# TODO\n",
    "# Your code here - implement sampling and plotting for different statistics"
   ]
  },
  {
   "cell_type": "markdown",
   "id": "a029b166",
   "metadata": {},
   "source": [
    "## Challenge 4: Testing for Normality - Visual Methods"
   ]
  },
  {
   "cell_type": "markdown",
   "id": "bbc3c074",
   "metadata": {},
   "source": [
    "Before applying tests that assume normality, it's important to check if data\n",
    "follows a normal distribution. Let's explore visual methods first.\n"
   ]
  },
  {
   "cell_type": "code",
   "execution_count": null,
   "id": "c5959610",
   "metadata": {},
   "outputs": [],
   "source": [
    "# Load California Housing dataset\n",
    "from sklearn.datasets import fetch_california_housing\n",
    "california = fetch_california_housing()\n",
    "california_df = pd.DataFrame(data=california.data, columns=california.feature_names)\n",
    "california_df['MedHouseVal'] = california.target\n",
    "\n",
    "print(\"Preview of the California Housing dataset:\")\n",
    "display(california_df.head())"
   ]
  },
  {
   "cell_type": "code",
   "execution_count": null,
   "id": "b598dabc",
   "metadata": {},
   "outputs": [],
   "source": [
    "print(\"\\nSummary statistics for median income:\")\n",
    "print(california_df['MedInc'].describe())"
   ]
  },
  {
   "cell_type": "code",
   "execution_count": null,
   "id": "6257e42b",
   "metadata": {},
   "outputs": [],
   "source": [
    "# We'll focus on median income for this challenge\n",
    "median_income = california_df['MedInc'].values\n"
   ]
  },
  {
   "cell_type": "code",
   "execution_count": null,
   "id": "e0d53409",
   "metadata": {},
   "outputs": [],
   "source": [
    "# Create some visualizations for normality assessment\n",
    "plt.figure(figsize=(15, 10))\n",
    "\n",
    "# Histogram with normal curve overlay\n",
    "plt.subplot(2, 2, 1)\n",
    "sns.histplot(median_income, kde=True, stat=\"density\")\n",
    "# Add theoretical normal curve\n",
    "x = np.linspace(min(median_income), max(median_income), 100)\n",
    "y = stats.norm.pdf(x, np.mean(median_income), np.std(median_income))\n",
    "plt.plot(x, y, 'r-', linewidth=2)\n",
    "plt.title('Histogram with Normal Curve')\n",
    "plt.xlabel('Median Income')\n",
    "\n",
    "# Q-Q plot\n",
    "plt.subplot(2, 2, 2)\n",
    "qqplot(median_income, line='s', ax=plt.gca())\n",
    "plt.title('Q-Q Plot')\n",
    "\n",
    "# Box plot\n",
    "plt.subplot(2, 2, 3)\n",
    "sns.boxplot(x=median_income)\n",
    "plt.title('Box Plot')\n",
    "plt.xlabel('Median Income')\n",
    "\n",
    "# Log-transformed histogram\n",
    "plt.subplot(2, 2, 4)\n",
    "sns.histplot(np.log(median_income), kde=True)\n",
    "plt.title('Histogram of Log-Transformed Data')\n",
    "plt.xlabel('Log(Median Income)')\n",
    "\n",
    "plt.tight_layout()\n",
    "plt.show()"
   ]
  },
  {
   "cell_type": "markdown",
   "id": "b6c65823",
   "metadata": {},
   "source": [
    "Your Tasks:\n",
    "1. Interpret the four plots above. What do they tell you about the normality of the data?\n",
    "2. Create at least two additional visualizations to assess normality\n",
    "3. Discuss whether a transformation might help make the data more normal\n",
    "4. Apply your chosen transformation and re-assess normality\n",
    "5. When would it be important to have normally distributed data in statistical analysis?\n",
    "\n",
    "After using Visualizations to assess normality:\n",
    "\n",
    "6.  Repeat the above but using atleast two statistical test to check whether the data is Normally distributed or not\n",
    "7. Make sure you apply the statistical test on both the original and transformed data."
   ]
  },
  {
   "cell_type": "code",
   "execution_count": null,
   "id": "c5170c0d",
   "metadata": {},
   "outputs": [],
   "source": [
    "# Your code here - additional normality visualizations and transformations\n"
   ]
  }
 ],
 "metadata": {
  "kernelspec": {
   "display_name": "Python 3",
   "language": "python",
   "name": "python3"
  },
  "language_info": {
   "codemirror_mode": {
    "name": "ipython",
    "version": 3
   },
   "file_extension": ".py",
   "mimetype": "text/x-python",
   "name": "python",
   "nbconvert_exporter": "python",
   "pygments_lexer": "ipython3",
   "version": "3.8.0"
  }
 },
 "nbformat": 4,
 "nbformat_minor": 5
}
